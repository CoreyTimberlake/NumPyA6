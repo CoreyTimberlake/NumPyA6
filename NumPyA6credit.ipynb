{
  "nbformat": 4,
  "nbformat_minor": 0,
  "metadata": {
    "colab": {
      "provenance": []
    },
    "kernelspec": {
      "name": "python3",
      "display_name": "Python 3"
    },
    "language_info": {
      "name": "python"
    }
  },
  "cells": [
    {
      "cell_type": "code",
      "execution_count": 81,
      "metadata": {
        "colab": {
          "base_uri": "https://localhost:8080/"
        },
        "id": "YGtt21lVR9Uq",
        "outputId": "f76e19bb-4c24-4d60-a30b-ff2dcb4f5611"
      },
      "outputs": [
        {
          "output_type": "stream",
          "name": "stdout",
          "text": [
            "[[0.173608   0.9338413  0.94637988 0.60229666 0.38776628]\n",
            " [0.96660969 0.363188   0.20434528 0.27676506 0.24653588]]\n"
          ]
        }
      ],
      "source": [
        "import numpy as np\n",
        "np.random.seed(100)\n",
        "\n",
        "arr1 = np.random.rand(20)\n",
        "#print(arr1)\n",
        "\n",
        "Q1 = np.sum(arr1)\n",
        "#print(Q1)\n",
        "\n",
        "Q2 = np.max(arr1)\n",
        "#print(Q2)\n",
        "\n",
        "arr2 = np.random.rand(4,5)\n",
        "#print(arr2)\n",
        "Q3 = np.min(arr2,axis=1)\n",
        "#print(Q3)\n",
        "\n",
        "Q4 = np.mean(arr2)\n",
        "#print(Q4)\n",
        "\n",
        "arr3 = np.array([2,3,np.nan,5])\n",
        "Q5 = np.nansum(arr3, dtype=float)\n",
        "#print(Q5)\n",
        "\n",
        "arr4 = np.random.rand(4)\n",
        "arr5 = np.random.rand(4)\n",
        "Q6 = np.concatenate((arr4, arr5))\n",
        "#print(Q6)\n",
        "\n",
        "q7 = np.random.rand(4,4)\n",
        "Q7 = np.concatenate((q7, q7))\n",
        "#print(Q7)\n",
        "\n",
        "q8 = np.random.rand(2,4)\n",
        "Q8 = np.vstack((q7,q8))\n",
        "#print(Q8)\n",
        "\n",
        "Q9 = np.vstack((q7,q7,q7,q8,q8))\n",
        "#print(Q9)\n",
        "\n",
        "arr6 = np.random.rand(2,1)\n",
        "Q10 = np.hstack((arr6, q8))\n",
        "#print(Q10)\n",
        "\n",
        "q11 = np.random.rand(20)\n",
        "Q11a = q11[:5]\n",
        "Q11b = q11[5:]\n",
        "#print(Q11a)\n",
        "#print(Q11b)\n",
        "\n",
        "Q12a = q11[:10]\n",
        "Q12b = q11[10:15]\n",
        "Q12c = q11[15:]\n",
        "\n",
        "q13 = np.random.rand(5,5)\n",
        "#print(q13)\n",
        "Q13a, Q13b = q13[:3], q13[3:]\n",
        "#print(Q13a)\n",
        "#print(Q13b)\n",
        "Q14a, Q14b = q13[:][:4], q13[:][4:]\n",
        "#print(Q14a)\n",
        "#print(Q14b)\n",
        "\n",
        "\n"
      ]
    }
  ]
}